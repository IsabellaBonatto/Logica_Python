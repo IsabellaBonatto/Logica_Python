{
 "cells": [
  {
   "cell_type": "code",
   "execution_count": 15,
   "id": "45adba9b",
   "metadata": {},
   "outputs": [],
   "source": [
    "def jogadores():\n",
    "    numJogadores = int(input(\"Quantas pessoas vão jogar? \"))\n",
    "    for i in range(numJogadores):\n",
    "        jogadores = {{input(f\"Jogador {i}: \"):{{\"Pontos\":0}:{\"Vencedor\":False}}}}"
   ]
  },
  {
   "cell_type": "code",
   "execution_count": null,
   "id": "9697b502",
   "metadata": {},
   "outputs": [],
   "source": []
  },
  {
   "cell_type": "code",
   "execution_count": null,
   "id": "5dc9e791",
   "metadata": {},
   "outputs": [],
   "source": [
    "jogadores()"
   ]
  },
  {
   "cell_type": "code",
   "execution_count": 2,
   "id": "3c743312",
   "metadata": {},
   "outputs": [],
   "source": [
    "dicio = {'Isabella': 14, 'Tiago':15}"
   ]
  },
  {
   "cell_type": "code",
   "execution_count": 3,
   "id": "2e2de372",
   "metadata": {},
   "outputs": [
    {
     "name": "stdout",
     "output_type": "stream",
     "text": [
      "True\n"
     ]
    }
   ],
   "source": [
    "print('Isabella' in dicio)"
   ]
  },
  {
   "cell_type": "code",
   "execution_count": 5,
   "id": "407d5232",
   "metadata": {},
   "outputs": [
    {
     "ename": "TypeError",
     "evalue": "unhashable type: 'dict'",
     "output_type": "error",
     "traceback": [
      "\u001b[1;31m---------------------------------------------------------------------------\u001b[0m",
      "\u001b[1;31mTypeError\u001b[0m                                 Traceback (most recent call last)",
      "\u001b[1;32m~\\AppData\\Local\\Temp/ipykernel_13792/292252705.py\u001b[0m in \u001b[0;36m<module>\u001b[1;34m\u001b[0m\n\u001b[1;32m----> 1\u001b[1;33m \u001b[0mLetrasPalavraSorteada\u001b[0m \u001b[1;33m=\u001b[0m \u001b[1;33m{\u001b[0m\u001b[1;33m{\u001b[0m\u001b[1;34m\"Corretas\"\u001b[0m\u001b[1;33m:\u001b[0m\u001b[1;33m[\u001b[0m\u001b[1;33m]\u001b[0m\u001b[1;33m}\u001b[0m\u001b[1;33m,\u001b[0m \u001b[1;33m{\u001b[0m\u001b[1;34m\"Erradas\"\u001b[0m\u001b[1;33m:\u001b[0m\u001b[1;33m[\u001b[0m\u001b[1;33m]\u001b[0m\u001b[1;33m}\u001b[0m\u001b[1;33m}\u001b[0m\u001b[1;33m\u001b[0m\u001b[1;33m\u001b[0m\u001b[0m\n\u001b[0m",
      "\u001b[1;31mTypeError\u001b[0m: unhashable type: 'dict'"
     ]
    }
   ],
   "source": [
    "LetrasPalavraSorteada = {{\"Corretas\":[]}, {\"Erradas\":[]}}"
   ]
  },
  {
   "cell_type": "code",
   "execution_count": 6,
   "id": "d4093d75",
   "metadata": {},
   "outputs": [
    {
     "ename": "SyntaxError",
     "evalue": "invalid syntax (Temp/ipykernel_13792/96866027.py, line 2)",
     "output_type": "error",
     "traceback": [
      "\u001b[1;36m  File \u001b[1;32m\"C:\\Users\\isbon\\AppData\\Local\\Temp/ipykernel_13792/96866027.py\"\u001b[1;36m, line \u001b[1;32m2\u001b[0m\n\u001b[1;33m    jogadores[\"Jogador {i}\"] = {nome, \"Pontos\":0,\"Vencedor\":False}\u001b[0m\n\u001b[1;37m                                              ^\u001b[0m\n\u001b[1;31mSyntaxError\u001b[0m\u001b[1;31m:\u001b[0m invalid syntax\n"
     ]
    }
   ],
   "source": [
    "nome = input(f\"Nome inválido! Jogador {i}: \")\n",
    "jogadores[\"Jogador {i}\"] = {nome, \"Pontos\":0,\"Vencedor\":False}"
   ]
  },
  {
   "cell_type": "code",
   "execution_count": 25,
   "id": "d11bd506",
   "metadata": {},
   "outputs": [],
   "source": [
    "def quaisjogadores():\n",
    "    numJogadores = input(\"Quantas pessoas vão jogar? \")\n",
    "    while not numJogadores.isnumeric():\n",
    "        numJogadores = input(\"Valor inválido! Informe um número. Quantas pessoas vão jogar? \")\n",
    "    jogador = {}\n",
    "    for i in range(int(numJogadores)):\n",
    "        nome = input(f\"Jogador {i}: \")       \n",
    "        while not nome.isalpha():\n",
    "            nome = input(f\"Nome inválido! Jogador {i}: \")\n",
    "        jogador[nome] = {\"Pontos\":0,\"Vencedor\":False}\n",
    "    return jogador"
   ]
  },
  {
   "cell_type": "code",
   "execution_count": 26,
   "id": "bee89a70",
   "metadata": {},
   "outputs": [
    {
     "name": "stdout",
     "output_type": "stream",
     "text": [
      "Quantas pessoas vão jogar? 2\n",
      "Jogador 0: isa\n",
      "Jogador 1: die\n"
     ]
    },
    {
     "data": {
      "text/plain": [
       "{'isa': {'Pontos': 0, 'Vencedor': False},\n",
       " 'die': {'Pontos': 0, 'Vencedor': False}}"
      ]
     },
     "execution_count": 26,
     "metadata": {},
     "output_type": "execute_result"
    }
   ],
   "source": [
    "quaisjogadores()"
   ]
  },
  {
   "cell_type": "code",
   "execution_count": 86,
   "id": "53bf7cbe",
   "metadata": {},
   "outputs": [],
   "source": [
    "LetrasPalavraSorteada = {\"Corretas\":[\"m\"], \"Erradas\":[\"\"]}"
   ]
  },
  {
   "cell_type": "code",
   "execution_count": null,
   "id": "3ace0c2e",
   "metadata": {},
   "outputs": [],
   "source": []
  },
  {
   "cell_type": "code",
   "execution_count": 87,
   "id": "73f85bd0",
   "metadata": {},
   "outputs": [],
   "source": [
    "palavraSorteada = \"marrom\""
   ]
  },
  {
   "cell_type": "code",
   "execution_count": 88,
   "id": "55792847",
   "metadata": {},
   "outputs": [
    {
     "name": "stdout",
     "output_type": "stream",
     "text": [
      "m_ _ _ _ m\n"
     ]
    }
   ],
   "source": [
    "for letra in palavraSorteada:\n",
    "    if letra not in list(LetrasPalavraSorteada.values())[0]:\n",
    "        palavraSorteada = palavraSorteada.replace(letra, \"_ \")\n",
    "print(palavraSorteada)"
   ]
  },
  {
   "cell_type": "code",
   "execution_count": 74,
   "id": "104e6072",
   "metadata": {},
   "outputs": [
    {
     "name": "stdout",
     "output_type": "stream",
     "text": [
      "I like apples\n"
     ]
    }
   ],
   "source": [
    "txt = \"I like bananas\"\n",
    "\n",
    "x = txt.replace(\"bananas\", \"apples\")\n",
    "\n",
    "print(x)"
   ]
  },
  {
   "cell_type": "code",
   "execution_count": 90,
   "id": "6fc3ec1d",
   "metadata": {},
   "outputs": [
    {
     "data": {
      "text/plain": [
       "'\\n            _ _ _ _\\n            | /\\n            | O\\n            |\\n            |\\n            -'"
      ]
     },
     "execution_count": 90,
     "metadata": {},
     "output_type": "execute_result"
    }
   ],
   "source": [
    "forca = ['''\n",
    "             _ _ _ _\n",
    "            | /\n",
    "            |\n",
    "            |\n",
    "            |\n",
    "            -''',\n",
    "            '''\n",
    "            _ _ _ _\n",
    "            | /\n",
    "            | O\n",
    "            |\n",
    "            |\n",
    "            -''',\n",
    "            '''\n",
    "            _ _ _ _\n",
    "            | /\n",
    "            | O\n",
    "            | |\n",
    "            |\n",
    "            -''',\n",
    "            '''\n",
    "            _ _ _ _\n",
    "            | /\n",
    "            | O\n",
    "            | /|\n",
    "            |\n",
    "            -''',\n",
    "            '''\n",
    "            _ _ _ _\n",
    "            | /\n",
    "            | O\n",
    "            | /|\\\n",
    "            |\n",
    "            -''',\n",
    "            '''\n",
    "            _ _ _ _\n",
    "            | /\n",
    "            | O\n",
    "            | /|\\\n",
    "            | /\n",
    "            -''',\n",
    "            '''\n",
    "            _ _ _ _\n",
    "            | /\n",
    "            | O\n",
    "            | /|\\\n",
    "            | / \\\n",
    "            -'''\n",
    "            ]\n",
    "\n",
    "LetrasPalavraSorteada = {\"Corretas\":[\"m\"], \"Erradas\":[\"\"]}\n",
    "\n",
    "forca[len(list(LetrasPalavraSorteada.values())[1])]"
   ]
  },
  {
   "cell_type": "code",
   "execution_count": 102,
   "id": "da5b9420",
   "metadata": {},
   "outputs": [],
   "source": [
    "def quaisjogadores():\n",
    "    numJogadores = input(\"Quantas pessoas vão jogar? \")\n",
    "    while not numJogadores.isnumeric():\n",
    "        numJogadores = input(\"Valor inválido! Informe um número. Quantas pessoas vão jogar? \")\n",
    "    jogadores = {}\n",
    "    for i in range(int(numJogadores)):\n",
    "        nome = input(f\"Jogador {i}: \")       \n",
    "        while not nome.isalpha():\n",
    "            nome = input(f\"Nome inválido! Jogador {i}: \")\n",
    "        jogadores[nome] = {\"Pontos\":0,\"Vencedor\":False}\n",
    "    return jogadores"
   ]
  },
  {
   "cell_type": "code",
   "execution_count": 139,
   "id": "75fd2d2c",
   "metadata": {},
   "outputs": [
    {
     "name": "stdout",
     "output_type": "stream",
     "text": [
      "Quantas pessoas vão jogar? 3\n",
      "Jogador 0: isa\n",
      "Jogador 1: jessi\n",
      "Jogador 2: fulano\n"
     ]
    }
   ],
   "source": [
    "jogadores = quaisjogadores()"
   ]
  },
  {
   "cell_type": "code",
   "execution_count": 140,
   "id": "1a43137d",
   "metadata": {},
   "outputs": [],
   "source": [
    "jogadorDaVez = 'isa'"
   ]
  },
  {
   "cell_type": "code",
   "execution_count": 141,
   "id": "fba69796",
   "metadata": {},
   "outputs": [],
   "source": [
    "jogadores[jogadorDaVez]['Pontos'] += 1"
   ]
  },
  {
   "cell_type": "code",
   "execution_count": 142,
   "id": "638e9b2e",
   "metadata": {},
   "outputs": [],
   "source": [
    "jogadorDaVez = 'jessi'"
   ]
  },
  {
   "cell_type": "code",
   "execution_count": 143,
   "id": "dbd78f06",
   "metadata": {},
   "outputs": [],
   "source": [
    "jogadores[jogadorDaVez]['Pontos'] += 2"
   ]
  },
  {
   "cell_type": "code",
   "execution_count": 175,
   "id": "9757d676",
   "metadata": {},
   "outputs": [
    {
     "name": "stdout",
     "output_type": "stream",
     "text": [
      "{'isa': 1}\n",
      "{'isa': 1, 'jessi': 2}\n",
      "{'isa': 1, 'jessi': 2, 'fulano': 0}\n",
      "{1: 'isa'}\n",
      "{1: 'isa', 2: 'jessi'}\n",
      "{1: 'isa', 2: 'jessi', 0: 'fulano'}\n"
     ]
    }
   ],
   "source": [
    "pontosPorJogador = {}\n",
    "classificacao = {}\n",
    "count = 0\n",
    "for i in list(jogadores.values()):\n",
    "    pontosPorJogador[list(jogadores.keys())[count]] = i['Pontos']\n",
    "    count += 1\n",
    "    print(pontosPorJogador)\n",
    "for jogador, pontos in pontosPorJogador.items():\n",
    "    maior = max(list(pontosPorJogador.values()))\n",
    "    classificacao[pontos] = jogador\n",
    "    print(classificacao)\n",
    "\n",
    "    #tentei fazer mas não rolou\n"
   ]
  },
  {
   "cell_type": "code",
   "execution_count": null,
   "id": "bbe7f49c",
   "metadata": {},
   "outputs": [],
   "source": []
  },
  {
   "cell_type": "code",
   "execution_count": 171,
   "id": "a2bdae7b",
   "metadata": {},
   "outputs": [
    {
     "name": "stdout",
     "output_type": "stream",
     "text": [
      "jessi      = 2 pontos\n",
      "isa        = 1 pontos\n",
      "fulano     = 0 pontos\n"
     ]
    }
   ],
   "source": [
    "import operator\n",
    "classificacao = {}\n",
    "count = 0\n",
    "for i in list(jogadores.values()):\n",
    "    classificacao[list(jogadores.keys())[count]] = i['Pontos']\n",
    "    count += 1\n",
    "    sortedClass = sorted(classificacao.items(), key=lambda kv: kv[1], reverse = True)\n",
    "for tuplas in sortedClass:\n",
    "    print(f'{tuplas[0]:<{10}} = {tuplas[1]} pontos')"
   ]
  },
  {
   "cell_type": "code",
   "execution_count": 176,
   "id": "6bf1614b",
   "metadata": {},
   "outputs": [],
   "source": [
    "jogadores = {'isa': {'Pontos': 0, 'Vencedor': False},\n",
    " 'die': {'Pontos': 0, 'Vencedor': False}}"
   ]
  },
  {
   "cell_type": "code",
   "execution_count": 177,
   "id": "ac98fd5a",
   "metadata": {},
   "outputs": [],
   "source": [
    "jogadorDaVez = 'isa'"
   ]
  },
  {
   "cell_type": "code",
   "execution_count": 178,
   "id": "cb76ade5",
   "metadata": {},
   "outputs": [],
   "source": [
    "jogadores[jogadorDaVez]['Pontos'] += 1"
   ]
  },
  {
   "cell_type": "code",
   "execution_count": 179,
   "id": "c7faf325",
   "metadata": {},
   "outputs": [
    {
     "name": "stdout",
     "output_type": "stream",
     "text": [
      "{'isa': {'Pontos': 1, 'Vencedor': False}, 'die': {'Pontos': 0, 'Vencedor': False}}\n"
     ]
    }
   ],
   "source": [
    "print(jogadores)"
   ]
  },
  {
   "cell_type": "code",
   "execution_count": 181,
   "id": "1c1db6d7",
   "metadata": {},
   "outputs": [],
   "source": [
    "forca = ['''\n",
    "             _ _ _ _\n",
    "            | /\n",
    "            |\n",
    "            |\n",
    "            |\n",
    "            -''',\n",
    "            '''\n",
    "            _ _ _ _\n",
    "            | /\n",
    "            | O\n",
    "            |\n",
    "            |\n",
    "            -''',\n",
    "            '''\n",
    "            _ _ _ _\n",
    "            | /\n",
    "            | O\n",
    "            | |\n",
    "            |\n",
    "            -''',\n",
    "            '''\n",
    "            _ _ _ _\n",
    "            | /\n",
    "            | O\n",
    "            | /|\n",
    "            |\n",
    "            -''',\n",
    "            '''\n",
    "            _ _ _ _\n",
    "            | /\n",
    "            | O\n",
    "            | /|\\\n",
    "            |\n",
    "            -''',\n",
    "            '''\n",
    "            _ _ _ _\n",
    "            | /\n",
    "            | O\n",
    "            | /|\\\n",
    "            | /\n",
    "            -''',\n",
    "            '''\n",
    "            _ _ _ _\n",
    "            | /\n",
    "            | O\n",
    "            | /|\\\n",
    "            | / \\\n",
    "            -'''\n",
    "            ]"
   ]
  },
  {
   "cell_type": "code",
   "execution_count": 182,
   "id": "4cbb2543",
   "metadata": {},
   "outputs": [],
   "source": [
    "LetrasPalavraSorteada = {\"Corretas\":[], \"Erradas\":[]}"
   ]
  },
  {
   "cell_type": "code",
   "execution_count": 184,
   "id": "e60b5739",
   "metadata": {},
   "outputs": [
    {
     "data": {
      "text/plain": [
       "[[], []]"
      ]
     },
     "execution_count": 184,
     "metadata": {},
     "output_type": "execute_result"
    }
   ],
   "source": [
    "list(LetrasPalavraSorteada.values())"
   ]
  },
  {
   "cell_type": "code",
   "execution_count": 185,
   "id": "bae4ee88",
   "metadata": {},
   "outputs": [
    {
     "data": {
      "text/plain": [
       "[]"
      ]
     },
     "execution_count": 185,
     "metadata": {},
     "output_type": "execute_result"
    }
   ],
   "source": [
    "list(LetrasPalavraSorteada.values())[1]"
   ]
  },
  {
   "cell_type": "code",
   "execution_count": 186,
   "id": "a0a234e0",
   "metadata": {},
   "outputs": [
    {
     "data": {
      "text/plain": [
       "0"
      ]
     },
     "execution_count": 186,
     "metadata": {},
     "output_type": "execute_result"
    }
   ],
   "source": [
    "len(list(LetrasPalavraSorteada.values())[1])"
   ]
  },
  {
   "cell_type": "code",
   "execution_count": 183,
   "id": "82391ecb",
   "metadata": {},
   "outputs": [
    {
     "ename": "TypeError",
     "evalue": "'list' object is not callable",
     "output_type": "error",
     "traceback": [
      "\u001b[1;31m---------------------------------------------------------------------------\u001b[0m",
      "\u001b[1;31mTypeError\u001b[0m                                 Traceback (most recent call last)",
      "\u001b[1;32m~\\AppData\\Local\\Temp/ipykernel_13792/1367636861.py\u001b[0m in \u001b[0;36m<module>\u001b[1;34m\u001b[0m\n\u001b[1;32m----> 1\u001b[1;33m \u001b[0mprint\u001b[0m\u001b[1;33m(\u001b[0m\u001b[0mforca\u001b[0m\u001b[1;33m(\u001b[0m\u001b[0mlen\u001b[0m\u001b[1;33m(\u001b[0m\u001b[0mlist\u001b[0m\u001b[1;33m(\u001b[0m\u001b[0mLetrasPalavraSorteada\u001b[0m\u001b[1;33m.\u001b[0m\u001b[0mvalues\u001b[0m\u001b[1;33m(\u001b[0m\u001b[1;33m)\u001b[0m\u001b[1;33m)\u001b[0m\u001b[1;33m[\u001b[0m\u001b[1;36m1\u001b[0m\u001b[1;33m]\u001b[0m\u001b[1;33m)\u001b[0m\u001b[1;33m)\u001b[0m\u001b[1;33m)\u001b[0m\u001b[1;33m\u001b[0m\u001b[1;33m\u001b[0m\u001b[0m\n\u001b[0m",
      "\u001b[1;31mTypeError\u001b[0m: 'list' object is not callable"
     ]
    }
   ],
   "source": [
    "print(forca(len(list(LetrasPalavraSorteada.values())[1])))"
   ]
  },
  {
   "cell_type": "code",
   "execution_count": 191,
   "id": "e8fdf737",
   "metadata": {},
   "outputs": [],
   "source": [
    "LetrasPalavraSorteada = {\"Corretas\":['a', 'b', 'c'], \"Erradas\":['x', 'y']}"
   ]
  },
  {
   "cell_type": "code",
   "execution_count": 189,
   "id": "faf24db0",
   "metadata": {},
   "outputs": [
    {
     "data": {
      "text/plain": [
       "[['a', 'b', 'c'], ['x', 'y']]"
      ]
     },
     "execution_count": 189,
     "metadata": {},
     "output_type": "execute_result"
    }
   ],
   "source": [
    "list(LetrasPalavraSorteada.values())"
   ]
  },
  {
   "cell_type": "code",
   "execution_count": 195,
   "id": "81722103",
   "metadata": {},
   "outputs": [],
   "source": [
    "def letrasChutadas(LetrasPalavraSorteada):\n",
    "    letrasChutadas = []\n",
    "    for lista in list(LetrasPalavraSorteada.values()):\n",
    "        for letra in lista:\n",
    "            letrasChutadas.append(letra)\n",
    "    return letrasChutadas"
   ]
  },
  {
   "cell_type": "code",
   "execution_count": 196,
   "id": "840463f8",
   "metadata": {},
   "outputs": [
    {
     "data": {
      "text/plain": [
       "['a', 'b', 'c', 'x', 'y']"
      ]
     },
     "execution_count": 196,
     "metadata": {},
     "output_type": "execute_result"
    }
   ],
   "source": [
    "letrasChutadas(LetrasPalavraSorteada)"
   ]
  },
  {
   "cell_type": "code",
   "execution_count": 197,
   "id": "1013a76c",
   "metadata": {},
   "outputs": [],
   "source": [
    "listaDeListas = ['Animal', 'Cidade', 'Coelho']"
   ]
  },
  {
   "cell_type": "code",
   "execution_count": 214,
   "id": "d20f182d",
   "metadata": {},
   "outputs": [
    {
     "name": "stdout",
     "output_type": "stream",
     "text": [
      "0\n"
     ]
    }
   ],
   "source": [
    "import random\n",
    "IndexCategoria = random.randint(0, len(listaDeListas)-1)\n",
    "print(IndexCategoria)"
   ]
  },
  {
   "cell_type": "code",
   "execution_count": 236,
   "id": "33c1fda0",
   "metadata": {},
   "outputs": [
    {
     "name": "stdout",
     "output_type": "stream",
     "text": [
      "Cidade\n"
     ]
    }
   ],
   "source": [
    "palavraSorteada = random.choice(listaDeListas[1:])\n",
    "print(palavraSorteada)"
   ]
  },
  {
   "cell_type": "code",
   "execution_count": 237,
   "id": "c25d7db4",
   "metadata": {},
   "outputs": [],
   "source": [
    "lista = [[1, 2], [3, 4], [5, 6]]"
   ]
  },
  {
   "cell_type": "code",
   "execution_count": 238,
   "id": "5307e224",
   "metadata": {},
   "outputs": [
    {
     "data": {
      "text/plain": [
       "[2]"
      ]
     },
     "execution_count": 238,
     "metadata": {},
     "output_type": "execute_result"
    }
   ],
   "source": [
    "lista[0][1:]"
   ]
  },
  {
   "cell_type": "code",
   "execution_count": 252,
   "id": "5b6cfa98",
   "metadata": {},
   "outputs": [],
   "source": [
    "jogadores = {'Jogador 1': {'Nome': 'Uyane De Oliveira', 'Pontos': 2, 'Vencedor': False}, 'Jogador 2': {'Nome': 'Wanessa Mendonça', 'Pontos': 5, 'Vencedor': False}, 'Jogador 3': {'Nome': 'Isabella Bonatto', 'Pontos': 0, 'Vencedor': False}}"
   ]
  },
  {
   "cell_type": "code",
   "execution_count": 253,
   "id": "87618b32",
   "metadata": {},
   "outputs": [],
   "source": [
    "def classificacao(jogadores):\n",
    "    import operator\n",
    "    classificacao = {}\n",
    "    count = 0\n",
    "    texto = ''\n",
    "    for i in list(jogadores.values()):\n",
    "        classificacao[i['Nome']] = i['Pontos']\n",
    "        count += 1\n",
    "        sortedClass = sorted(classificacao.items(), key=lambda kv: kv[1], reverse = True)\n",
    "    for tuplas in sortedClass:\n",
    "        texto += f'\\n {tuplas[0]:<{10}} = {tuplas[1]} pontos'\n",
    "    return texto"
   ]
  },
  {
   "cell_type": "code",
   "execution_count": 254,
   "id": "c325a572",
   "metadata": {},
   "outputs": [
    {
     "data": {
      "text/plain": [
       "'\\n Wanessa Mendonça = 5 pontos\\n Uyane De Oliveira = 2 pontos\\n Isabella Bonatto = 0 pontos'"
      ]
     },
     "execution_count": 254,
     "metadata": {},
     "output_type": "execute_result"
    }
   ],
   "source": [
    "classificacao(jogadores)"
   ]
  },
  {
   "cell_type": "code",
   "execution_count": null,
   "id": "f84fe0a7",
   "metadata": {},
   "outputs": [],
   "source": [
    "\n",
    "dicionario = {a:ã, a:á, a:â, e:é, e:ê, i: í, o:ó, o:ô, u:ú, c:ç}"
   ]
  },
  {
   "cell_type": "code",
   "execution_count": 256,
   "id": "228405df",
   "metadata": {},
   "outputs": [
    {
     "name": "stdout",
     "output_type": "stream",
     "text": [
      "[4, 3, 1, 2]\n"
     ]
    }
   ],
   "source": [
    "import random\n",
    "\n",
    "lista = [1, 2, 3, 4]\n",
    "\n",
    "random.shuffle(lista)\n",
    "\n",
    "print(lista)"
   ]
  }
 ],
 "metadata": {
  "kernelspec": {
   "display_name": "Python 3 (ipykernel)",
   "language": "python",
   "name": "python3"
  },
  "language_info": {
   "codemirror_mode": {
    "name": "ipython",
    "version": 3
   },
   "file_extension": ".py",
   "mimetype": "text/x-python",
   "name": "python",
   "nbconvert_exporter": "python",
   "pygments_lexer": "ipython3",
   "version": "3.9.4"
  }
 },
 "nbformat": 4,
 "nbformat_minor": 5
}
